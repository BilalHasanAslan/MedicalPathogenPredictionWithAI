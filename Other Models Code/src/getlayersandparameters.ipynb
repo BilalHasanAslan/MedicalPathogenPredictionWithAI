{
 "cells": [
  {
   "cell_type": "code",
   "execution_count": 1,
   "metadata": {},
   "outputs": [
    {
     "name": "stderr",
     "output_type": "stream",
     "text": [
      "/home/crownless/anaconda3/envs/medai3/lib/python3.11/site-packages/torchvision/io/image.py:13: UserWarning: Failed to load image Python extension: 'libc10_cuda.so: cannot open shared object file: No such file or directory'If you don't plan on using image functionality from `torchvision.io`, you can ignore this warning. Otherwise, there might be something wrong with your environment. Did you have `libjpeg` or `libpng` installed before building `torchvision` from source?\n",
      "  warn(\n",
      "/home/crownless/anaconda3/envs/medai3/lib/python3.11/site-packages/torchvision/models/_utils.py:208: UserWarning: The parameter 'pretrained' is deprecated since 0.13 and may be removed in the future, please use 'weights' instead.\n",
      "  warnings.warn(\n",
      "/home/crownless/anaconda3/envs/medai3/lib/python3.11/site-packages/torchvision/models/_utils.py:223: UserWarning: Arguments other than a weight enum or `None` for 'weights' are deprecated since 0.13 and may be removed in the future. The current behavior is equivalent to passing `weights=None`.\n",
      "  warnings.warn(msg)\n"
     ]
    },
    {
     "data": {
      "text/plain": [
       "'./parameternumdata.csv'"
      ]
     },
     "execution_count": 1,
     "metadata": {},
     "output_type": "execute_result"
    }
   ],
   "source": [
    "import torch\n",
    "import torchvision.models as models\n",
    "import csv\n",
    "\n",
    "# Updated function to calculate the number of parameters and layers in a model\n",
    "def get_model_details(model):\n",
    "    num_params = sum(p.numel() for p in model.parameters())\n",
    "    num_layers = len(list(model.modules()))\n",
    "    return num_params, num_layers\n",
    "\n",
    "# Updated list of models to analyze using torchvision\n",
    "model_names = [\n",
    "    'resnet18', 'resnet50', 'resnet152',\n",
    "    'swin_v2_t', 'swin_v2_s', 'swin_v2_b',\n",
    "    'convnext_tiny', 'convnext_small', 'convnext_base',\n",
    "    'densenet121', 'densenet169', 'densenet201',\n",
    "    'efficientnet_v2_s', 'efficientnet_v2_m', 'efficientnet_v2_l'\n",
    "]\n",
    "\n",
    "# Dictionary to store model details\n",
    "model_details = {}\n",
    "\n",
    "# Try to instantiate each model using torchvision and get details\n",
    "for model_name in model_names:\n",
    "    try:\n",
    "        model = getattr(models, model_name)(pretrained=False)\n",
    "        model_details[model_name] = get_model_details(model)\n",
    "    except AttributeError as e:\n",
    "        # If the model is not found in torchvision, record an error message\n",
    "        model_details[model_name] = (\"Model not found in torchvision\",)\n",
    "\n",
    "# Function to format numbers with commas for better readability\n",
    "def format_number(num):\n",
    "    return f\"{num:,}\" if isinstance(num, int) else num\n",
    "\n",
    "# Write results to a CSV file with formatted numbers\n",
    "formatted_csv_file = './parameternumdata.csv'\n",
    "with open(formatted_csv_file, mode='w', newline='') as file:\n",
    "    writer = csv.writer(file)\n",
    "    writer.writerow(['Model Name', 'Number of Parameters', 'Number of Layers/Error'])\n",
    "    for model_name, details in model_details.items():\n",
    "        # Apply formatting to numbers\n",
    "        formatted_details = [format_number(detail) for detail in details]\n",
    "        writer.writerow([model_name] + formatted_details)\n",
    "\n",
    "formatted_csv_file # Return the path to the created CSV file with formatted numbers\n",
    "\n"
   ]
  },
  {
   "cell_type": "code",
   "execution_count": 2,
   "metadata": {},
   "outputs": [
    {
     "name": "stderr",
     "output_type": "stream",
     "text": [
      "/home/crownless/anaconda3/envs/medai3/lib/python3.11/site-packages/torchvision/models/_utils.py:208: UserWarning: The parameter 'pretrained' is deprecated since 0.13 and may be removed in the future, please use 'weights' instead.\n",
      "  warnings.warn(\n",
      "/home/crownless/anaconda3/envs/medai3/lib/python3.11/site-packages/torchvision/models/_utils.py:223: UserWarning: Arguments other than a weight enum or `None` for 'weights' are deprecated since 0.13 and may be removed in the future. The current behavior is equivalent to passing `weights=None`.\n",
      "  warnings.warn(msg)\n"
     ]
    },
    {
     "data": {
      "text/plain": [
       "'./model_parameters_specific_layers.csv'"
      ]
     },
     "execution_count": 2,
     "metadata": {},
     "output_type": "execute_result"
    }
   ],
   "source": [
    "import torch\n",
    "import torchvision.models as models\n",
    "import torch.nn as nn\n",
    "import csv\n",
    "\n",
    "# Function to calculate the number of parameters and to count specific types of layers in a model\n",
    "def get_model_specific_details(model):\n",
    "    num_params = sum(p.numel() for p in model.parameters())\n",
    "    # Count only convolutional and fully connected layers\n",
    "    layer_types = (nn.Conv2d, nn.Linear)\n",
    "    num_specific_layers = sum(1 for _ in model.modules() if isinstance(_, layer_types))\n",
    "    return num_params, num_specific_layers\n",
    "\n",
    "# List of models\n",
    "model_names = [\n",
    "    'resnet18', 'resnet50', 'resnet152',\n",
    "    'swin_v2_t', 'swin_v2_s', 'swin_v2_b',\n",
    "    'convnext_tiny', 'convnext_small', 'convnext_base',\n",
    "    'densenet121', 'densenet169', 'densenet201',\n",
    "    'efficientnet_v2_s', 'efficientnet_v2_m', 'efficientnet_v2_l'\n",
    "]\n",
    "\n",
    "# Dictionary to store model details\n",
    "model_details = {}\n",
    "\n",
    "# Instantiate each model and get details\n",
    "for model_name in model_names:\n",
    "    try:\n",
    "        model = getattr(models, model_name)(pretrained=False)\n",
    "        model_details[model_name] = get_model_specific_details(model)\n",
    "    except AttributeError:\n",
    "        # If the model is not found in torchvision, record an error message\n",
    "        model_details[model_name] = (\"Model not found in torchvision\",)\n",
    "\n",
    "# Function to format numbers with commas for better readability\n",
    "def format_number(num):\n",
    "    return f\"{num:,}\" if isinstance(num, int) else num\n",
    "\n",
    "# Write results to a CSV file with formatted numbers\n",
    "specific_layers_csv_file = './model_parameters_specific_layers.csv'\n",
    "with open(specific_layers_csv_file, mode='w', newline='') as file:\n",
    "    writer = csv.writer(file)\n",
    "    writer.writerow(['Model Name', 'Number of Parameters', 'Number of Specific Layers'])\n",
    "    for model_name, details in model_details.items():\n",
    "        formatted_details = [format_number(detail) for detail in details]\n",
    "        writer.writerow([model_name] + formatted_details)\n",
    "\n",
    "specific_layers_csv_file # Path to the CSV file\n"
   ]
  }
 ],
 "metadata": {
  "kernelspec": {
   "display_name": "medai3",
   "language": "python",
   "name": "python3"
  },
  "language_info": {
   "codemirror_mode": {
    "name": "ipython",
    "version": 3
   },
   "file_extension": ".py",
   "mimetype": "text/x-python",
   "name": "python",
   "nbconvert_exporter": "python",
   "pygments_lexer": "ipython3",
   "version": "3.11.7"
  }
 },
 "nbformat": 4,
 "nbformat_minor": 2
}
